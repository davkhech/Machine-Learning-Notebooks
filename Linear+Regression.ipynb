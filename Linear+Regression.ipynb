{
 "cells": [
  {
   "cell_type": "markdown",
   "metadata": {},
   "source": [
    "# Data"
   ]
  },
  {
   "cell_type": "markdown",
   "metadata": {},
   "source": [
    "Please use the gender data. Use the weight to predict the height of the person. You can try different variants: per gender or for overall data. Please argue why did you prefer one variant over another in the report."
   ]
  },
  {
   "cell_type": "code",
   "execution_count": 31,
   "metadata": {
    "collapsed": true
   },
   "outputs": [],
   "source": [
    "import pandas as pd\n",
    "import numpy as np\n",
    "import matplotlib.pyplot as plt\n",
    "import math"
   ]
  },
  {
   "cell_type": "code",
   "execution_count": 67,
   "metadata": {
    "collapsed": true
   },
   "outputs": [],
   "source": [
    "data = pd.read_csv('/home/compvis/data/gender_data.csv')"
   ]
  },
  {
   "cell_type": "code",
   "execution_count": 68,
   "metadata": {
    "collapsed": false
   },
   "outputs": [
    {
     "data": {
      "text/html": [
       "<div>\n",
       "<table border=\"1\" class=\"dataframe\">\n",
       "  <thead>\n",
       "    <tr style=\"text-align: right;\">\n",
       "      <th></th>\n",
       "      <th>Gender</th>\n",
       "      <th>Weight</th>\n",
       "      <th>Height</th>\n",
       "    </tr>\n",
       "  </thead>\n",
       "  <tbody>\n",
       "    <tr>\n",
       "      <th>0</th>\n",
       "      <td>Male</td>\n",
       "      <td>73.847017</td>\n",
       "      <td>241.893563</td>\n",
       "    </tr>\n",
       "    <tr>\n",
       "      <th>1</th>\n",
       "      <td>Male</td>\n",
       "      <td>68.781904</td>\n",
       "      <td>162.310473</td>\n",
       "    </tr>\n",
       "    <tr>\n",
       "      <th>2</th>\n",
       "      <td>Male</td>\n",
       "      <td>74.110105</td>\n",
       "      <td>212.740856</td>\n",
       "    </tr>\n",
       "    <tr>\n",
       "      <th>3</th>\n",
       "      <td>Male</td>\n",
       "      <td>71.730978</td>\n",
       "      <td>220.042470</td>\n",
       "    </tr>\n",
       "    <tr>\n",
       "      <th>4</th>\n",
       "      <td>Male</td>\n",
       "      <td>69.881796</td>\n",
       "      <td>206.349801</td>\n",
       "    </tr>\n",
       "  </tbody>\n",
       "</table>\n",
       "</div>"
      ],
      "text/plain": [
       "  Gender     Weight      Height\n",
       "0   Male  73.847017  241.893563\n",
       "1   Male  68.781904  162.310473\n",
       "2   Male  74.110105  212.740856\n",
       "3   Male  71.730978  220.042470\n",
       "4   Male  69.881796  206.349801"
      ]
     },
     "execution_count": 68,
     "metadata": {},
     "output_type": "execute_result"
    }
   ],
   "source": [
    "data.head()"
   ]
  },
  {
   "cell_type": "code",
   "execution_count": 488,
   "metadata": {
    "collapsed": true
   },
   "outputs": [],
   "source": [
    "data = data.iloc[np.random.permutation(len(data))]"
   ]
  },
  {
   "cell_type": "code",
   "execution_count": 489,
   "metadata": {
    "collapsed": false
   },
   "outputs": [
    {
     "data": {
      "text/html": [
       "<div>\n",
       "<table border=\"1\" class=\"dataframe\">\n",
       "  <thead>\n",
       "    <tr style=\"text-align: right;\">\n",
       "      <th></th>\n",
       "      <th>Gender</th>\n",
       "      <th>Weight</th>\n",
       "      <th>Height</th>\n",
       "    </tr>\n",
       "  </thead>\n",
       "  <tbody>\n",
       "    <tr>\n",
       "      <th>8263</th>\n",
       "      <td>Female</td>\n",
       "      <td>62.227338</td>\n",
       "      <td>120.936614</td>\n",
       "    </tr>\n",
       "    <tr>\n",
       "      <th>1806</th>\n",
       "      <td>Male</td>\n",
       "      <td>70.825603</td>\n",
       "      <td>173.963577</td>\n",
       "    </tr>\n",
       "    <tr>\n",
       "      <th>7824</th>\n",
       "      <td>Female</td>\n",
       "      <td>62.268769</td>\n",
       "      <td>138.622816</td>\n",
       "    </tr>\n",
       "    <tr>\n",
       "      <th>6315</th>\n",
       "      <td>Female</td>\n",
       "      <td>62.670157</td>\n",
       "      <td>111.080658</td>\n",
       "    </tr>\n",
       "    <tr>\n",
       "      <th>9956</th>\n",
       "      <td>Female</td>\n",
       "      <td>62.869566</td>\n",
       "      <td>140.298043</td>\n",
       "    </tr>\n",
       "  </tbody>\n",
       "</table>\n",
       "</div>"
      ],
      "text/plain": [
       "      Gender     Weight      Height\n",
       "8263  Female  62.227338  120.936614\n",
       "1806    Male  70.825603  173.963577\n",
       "7824  Female  62.268769  138.622816\n",
       "6315  Female  62.670157  111.080658\n",
       "9956  Female  62.869566  140.298043"
      ]
     },
     "execution_count": 489,
     "metadata": {},
     "output_type": "execute_result"
    }
   ],
   "source": [
    "data.head()"
   ]
  },
  {
   "cell_type": "markdown",
   "metadata": {},
   "source": [
    "# Linear Regression\n"
   ]
  },
  {
   "cell_type": "code",
   "execution_count": 510,
   "metadata": {
    "collapsed": false
   },
   "outputs": [
    {
     "name": "stdout",
     "output_type": "stream",
     "text": [
      "[[ 1.          0.89654089]\n",
      " [ 1.          0.82429799]\n",
      " [ 1.          0.84726765]\n",
      " [ 1.          0.79359901]\n",
      " [ 1.          0.9235872 ]] [ 0.64433413  0.65978423  0.56001823  0.56998225  0.76855323]\n"
     ]
    }
   ],
   "source": [
    "# data = data[data.Gender == 'Male']\n",
    "X = data['Weight']\n",
    "Y = data['Height']\n",
    "max_x = X.max()\n",
    "max_y = Y.max()\n",
    "Y = Y.map(lambda y: y / max_y).as_matrix()\n",
    "X = X.map(lambda x: x / max_x).as_matrix()\n",
    "X = np.concatenate((np.array([1 for _ in range(len(X))]), X))\n",
    "X.shape = (2, Y.size)\n",
    "X = X.T\n",
    "print X[:5], Y[:5]"
   ]
  },
  {
   "cell_type": "code",
   "execution_count": 511,
   "metadata": {
    "collapsed": false
   },
   "outputs": [
    {
     "name": "stdout",
     "output_type": "stream",
     "text": [
      "4000 500 500\n",
      "4000 500 500\n",
      "(4000, 2) (4000,)\n"
     ]
    }
   ],
   "source": [
    "size = len(X)\n",
    "X_train, X_validation, X_test = X[: int(0.8 * size)], X[int(0.8 * size): int(0.9 * size)], X[int(0.9 * size): ]\n",
    "Y_train, Y_validation, Y_test = Y[: int(0.8 * size)], Y[int(0.8 * size): int(0.9 * size)], Y[int(0.9 * size): ]\n",
    "print len(X_train), len(X_validation), len(X_test)\n",
    "print len(Y_train), len(Y_validation), len(Y_test)\n",
    "print X_train.shape, Y_train.shape"
   ]
  },
  {
   "cell_type": "code",
   "execution_count": 492,
   "metadata": {
    "collapsed": false
   },
   "outputs": [
    {
     "name": "stdout",
     "output_type": "stream",
     "text": [
      "[ 0.26242084  0.47432185] (2,)\n"
     ]
    }
   ],
   "source": [
    "theta = np.random.uniform(size=2)\n",
    "print theta, theta.shape"
   ]
  },
  {
   "cell_type": "markdown",
   "metadata": {},
   "source": [
    "### Implement \"loss\" function"
   ]
  },
  {
   "cell_type": "code",
   "execution_count": 378,
   "metadata": {
    "collapsed": true
   },
   "outputs": [],
   "source": [
    "def loss(x, y, theta):\n",
    "    arg = np.dot(x, theta.T) - y\n",
    "    return np.sum(arg ** 2) / (2 * y.size)"
   ]
  },
  {
   "cell_type": "code",
   "execution_count": 493,
   "metadata": {
    "collapsed": false
   },
   "outputs": [
    {
     "data": {
      "text/plain": [
       "0.0067619094917328471"
      ]
     },
     "execution_count": 493,
     "metadata": {},
     "output_type": "execute_result"
    }
   ],
   "source": [
    "loss(X_train, Y_train, theta)"
   ]
  },
  {
   "cell_type": "code",
   "execution_count": 173,
   "metadata": {
    "collapsed": false
   },
   "outputs": [],
   "source": [
    "# def loss(x, y, theta):\n",
    "#     s = 0\n",
    "#     data = np.vstack((x, y))\n",
    "#     for i in range(len(x)):\n",
    "#         item = data[:, i]\n",
    "#         s += (predict(theta, item[0]) - item[1]) ** 2\n",
    "#     return s / (2 * len(x))"
   ]
  },
  {
   "cell_type": "markdown",
   "metadata": {},
   "source": [
    "### Implement \"fit\" function gradient descent"
   ]
  },
  {
   "cell_type": "code",
   "execution_count": 457,
   "metadata": {
    "collapsed": true
   },
   "outputs": [],
   "source": [
    "def fit(x, y, theta, alpha):\n",
    "    arg = np.dot(x, theta.T) - y\n",
    "    return theta - np.array([np.sum(arg * x[:, i]) for i in range(x.shape[1])]) * alpha / y.size"
   ]
  },
  {
   "cell_type": "code",
   "execution_count": 494,
   "metadata": {
    "collapsed": false
   },
   "outputs": [
    {
     "data": {
      "text/plain": [
       "array([ 0.2499163 ,  0.46466272])"
      ]
     },
     "execution_count": 494,
     "metadata": {},
     "output_type": "execute_result"
    }
   ],
   "source": [
    "fit(X_train, Y_train, theta, 0.2)"
   ]
  },
  {
   "cell_type": "code",
   "execution_count": 304,
   "metadata": {
    "collapsed": true
   },
   "outputs": [],
   "source": [
    "# def fit(x, y, theta, alpha):\n",
    "#     def temp(j):\n",
    "#         s = 0\n",
    "#         data = np.vstack((x, y))\n",
    "#         for i in range(np.size(x)):\n",
    "#             item = data[:, i]\n",
    "#             s += (predict(theta, item[0]) - item[1]) * x[i][j]\n",
    "#         return s\n",
    "    \n",
    "#     dJ = np.array([temp(j) for j in range(np.size(x[0]))]) / np.size(x)\n",
    "# #     print dJ\n",
    "#     theta = theta - alpha * dJ\n",
    "#     return theta"
   ]
  },
  {
   "cell_type": "markdown",
   "metadata": {},
   "source": [
    "### Implement \"predict\" function"
   ]
  },
  {
   "cell_type": "code",
   "execution_count": 380,
   "metadata": {
    "collapsed": true
   },
   "outputs": [],
   "source": [
    "def predict(theta, x):\n",
    "    return theta.dot(x)"
   ]
  },
  {
   "cell_type": "markdown",
   "metadata": {},
   "source": [
    "### Depict the plot of loss over iterations"
   ]
  },
  {
   "cell_type": "code",
   "execution_count": 512,
   "metadata": {
    "collapsed": false
   },
   "outputs": [
    {
     "data": {
      "image/png": "[encoded data removed]",
      "text/plain": [
       "<matplotlib.figure.Figure at 0x7f2437ebdbd0>"
      ]
     },
     "metadata": {},
     "output_type": "display_data"
    }
   ],
   "source": [
    "theta = np.random.uniform(size=2)\n",
    "def iterate():\n",
    "    global theta\n",
    "    theta = fit(X_test, Y_test, theta, 0.01)\n",
    "    return loss(X_test, Y_test, theta)\n",
    "\n",
    "losses = [iterate() for i in range(2000)]\n",
    "plt.plot(losses)\n",
    "plt.show()"
   ]
  },
  {
   "cell_type": "markdown",
   "metadata": {},
   "source": [
    "### Choose the \"learning rate\" value, show the comparison to other values via loss plot"
   ]
  },
  {
   "cell_type": "code",
   "execution_count": 531,
   "metadata": {
    "collapsed": true
   },
   "outputs": [],
   "source": [
    "def learn(alpha):\n",
    "    global theta\n",
    "    theta = np.random.uniform(size=2)\n",
    "    for i in range(20000):\n",
    "        theta = fit(X_train, Y_train, theta, alpha)"
   ]
  },
  {
   "cell_type": "code",
   "execution_count": 533,
   "metadata": {
    "collapsed": false
   },
   "outputs": [
    {
     "name": "stdout",
     "output_type": "stream",
     "text": [
      "Learning Rate:  0.2\n"
     ]
    },
    {
     "data": {
      "image/png": "[encoded data removed]",
      "text/plain": [
       "<matplotlib.figure.Figure at 0x7f2473f660d0>"
      ]
     },
     "metadata": {},
     "output_type": "display_data"
    }
   ],
   "source": [
    "def chooseAlpha(start):\n",
    "    global theta\n",
    "    l = 65000\n",
    "    for _ in range(10):\n",
    "        learn(start)\n",
    "        t = loss(X_validation, Y_validation, theta)\n",
    "        plt.scatter(start, t)\n",
    "        if (t > l):\n",
    "            break\n",
    "        l = t\n",
    "        start /= 1.5\n",
    "    return start\n",
    "\n",
    "alpha = chooseAlpha(0.3)\n",
    "print \"Learning Rate: \", alpha\n",
    "plt.show()"
   ]
  },
  {
   "cell_type": "markdown",
   "metadata": {},
   "source": [
    "### Plot the regression line you have found "
   ]
  },
  {
   "cell_type": "code",
   "execution_count": 534,
   "metadata": {
    "collapsed": false
   },
   "outputs": [
    {
     "data": {
      "image/png": "[encoded data removed]",
      "text/plain": [
       "<matplotlib.figure.Figure at 0x7f2437978ed0>"
      ]
     },
     "metadata": {},
     "output_type": "display_data"
    }
   ],
   "source": [
    "learn(alpha)\n",
    "predicted = [max_y * predict(theta, X_test[i]) for i in range(len(X_test))]\n",
    "plt.plot(predicted, X_test[:, 1] * max_x)\n",
    "plt.scatter(Y_test * max_y, X_test[:, 1] * max_x)\n",
    "plt.show()"
   ]
  },
  {
   "cell_type": "code",
   "execution_count": null,
   "metadata": {
    "collapsed": true
   },
   "outputs": [],
   "source": []
  }
 ],
 "metadata": {
  "kernelspec": {
   "display_name": "Python 2",
   "language": "python",
   "name": "python2"
  },
  "language_info": {
   "codemirror_mode": {
    "name": "ipython",
    "version": 2
   },
   "file_extension": ".py",
   "mimetype": "text/x-python",
   "name": "python",
   "nbconvert_exporter": "python",
   "pygments_lexer": "ipython2",
   "version": "2.7.6"
  }
 },
 "nbformat": 4,
 "nbformat_minor": 1
}
