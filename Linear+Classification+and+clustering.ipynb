{
 "cells": [
  {
   "cell_type": "markdown",
   "metadata": {},
   "source": [
    "# Data"
   ]
  },
  {
   "cell_type": "markdown",
   "metadata": {},
   "source": [
    "https://archive.ics.uci.edu/ml/datasets/Iris\n",
    "Please download the data to your working folder.On the webpage you can find its description. "
   ]
  },
  {
   "cell_type": "markdown",
   "metadata": {},
   "source": [
    "### Explore the data"
   ]
  },
  {
   "cell_type": "code",
   "execution_count": 16,
   "metadata": {
    "collapsed": true
   },
   "outputs": [],
   "source": [
    "import numpy as np\n",
    "import pandas as pd\n",
    "import matplotlib.pyplot as plt\n",
    "import math"
   ]
  },
  {
   "cell_type": "code",
   "execution_count": 2,
   "metadata": {
    "collapsed": false
   },
   "outputs": [],
   "source": [
    "data = pd.read_csv('./iris.csv')"
   ]
  },
  {
   "cell_type": "code",
   "execution_count": 3,
   "metadata": {
    "collapsed": false
   },
   "outputs": [
    {
     "data": {
      "text/html": [
       "<div>\n",
       "<table border=\"1\" class=\"dataframe\">\n",
       "  <thead>\n",
       "    <tr style=\"text-align: right;\">\n",
       "      <th></th>\n",
       "      <th>A</th>\n",
       "      <th>B</th>\n",
       "      <th>C</th>\n",
       "      <th>D</th>\n",
       "      <th>T</th>\n",
       "    </tr>\n",
       "  </thead>\n",
       "  <tbody>\n",
       "    <tr>\n",
       "      <th>0</th>\n",
       "      <td>5.1</td>\n",
       "      <td>3.5</td>\n",
       "      <td>1.4</td>\n",
       "      <td>0.2</td>\n",
       "      <td>Iris-setosa</td>\n",
       "    </tr>\n",
       "    <tr>\n",
       "      <th>1</th>\n",
       "      <td>4.9</td>\n",
       "      <td>3.0</td>\n",
       "      <td>1.4</td>\n",
       "      <td>0.2</td>\n",
       "      <td>Iris-setosa</td>\n",
       "    </tr>\n",
       "    <tr>\n",
       "      <th>2</th>\n",
       "      <td>4.7</td>\n",
       "      <td>3.2</td>\n",
       "      <td>1.3</td>\n",
       "      <td>0.2</td>\n",
       "      <td>Iris-setosa</td>\n",
       "    </tr>\n",
       "    <tr>\n",
       "      <th>3</th>\n",
       "      <td>4.6</td>\n",
       "      <td>3.1</td>\n",
       "      <td>1.5</td>\n",
       "      <td>0.2</td>\n",
       "      <td>Iris-setosa</td>\n",
       "    </tr>\n",
       "    <tr>\n",
       "      <th>4</th>\n",
       "      <td>5.0</td>\n",
       "      <td>3.6</td>\n",
       "      <td>1.4</td>\n",
       "      <td>0.2</td>\n",
       "      <td>Iris-setosa</td>\n",
       "    </tr>\n",
       "  </tbody>\n",
       "</table>\n",
       "</div>"
      ],
      "text/plain": [
       "     A    B    C    D            T\n",
       "0  5.1  3.5  1.4  0.2  Iris-setosa\n",
       "1  4.9  3.0  1.4  0.2  Iris-setosa\n",
       "2  4.7  3.2  1.3  0.2  Iris-setosa\n",
       "3  4.6  3.1  1.5  0.2  Iris-setosa\n",
       "4  5.0  3.6  1.4  0.2  Iris-setosa"
      ]
     },
     "execution_count": 3,
     "metadata": {},
     "output_type": "execute_result"
    }
   ],
   "source": [
    "data.head()"
   ]
  },
  {
   "cell_type": "code",
   "execution_count": 6,
   "metadata": {
    "collapsed": false
   },
   "outputs": [],
   "source": [
    "it = {\n",
    "    'Iris-setosa': 1,\n",
    "    'Iris-versicolor': 2,\n",
    "    'Iris-virginica': 3\n",
    "}\n",
    "iris_types = map(lambda t: it[t], data['T'])\n",
    "\n",
    "from matplotlib.colors import ListedColormap\n",
    "cmap = ListedColormap(['#FF0000', '#00FF00', '#0000FF'])"
   ]
  },
  {
   "cell_type": "code",
   "execution_count": 7,
   "metadata": {
    "collapsed": false
   },
   "outputs": [
    {
     "data": {
      "image/png": "[encoded data removed]",
      "text/plain": [
       "<matplotlib.figure.Figure at 0x7f52f80b2210>"
      ]
     },
     "metadata": {},
     "output_type": "display_data"
    }
   ],
   "source": [
    "plt.scatter(data['A'], data['B'], c=iris_types, cmap=cmap)\n",
    "plt.show()"
   ]
  },
  {
   "cell_type": "code",
   "execution_count": 8,
   "metadata": {
    "collapsed": false
   },
   "outputs": [
    {
     "data": {
      "image/png": "[encoded data removed]",
      "text/plain": [
       "<matplotlib.figure.Figure at 0x7f52f81d5390>"
      ]
     },
     "metadata": {},
     "output_type": "display_data"
    }
   ],
   "source": [
    "plt.scatter(data['C'], data['D'], c=iris_types, cmap=cmap)\n",
    "plt.show()"
   ]
  },
  {
   "cell_type": "code",
   "execution_count": 9,
   "metadata": {
    "collapsed": false
   },
   "outputs": [
    {
     "data": {
      "image/png": "[encoded data removed]",
      "text/plain": [
       "<matplotlib.figure.Figure at 0x7f52f816d290>"
      ]
     },
     "metadata": {},
     "output_type": "display_data"
    }
   ],
   "source": [
    "plt.scatter(data['A'], data['C'], c=iris_types, cmap=cmap)\n",
    "plt.show()"
   ]
  },
  {
   "cell_type": "code",
   "execution_count": 10,
   "metadata": {
    "collapsed": false
   },
   "outputs": [
    {
     "data": {
      "image/png": "[encoded data removed]",
      "text/plain": [
       "<matplotlib.figure.Figure at 0x7f52f7ff2f10>"
      ]
     },
     "metadata": {},
     "output_type": "display_data"
    }
   ],
   "source": [
    "plt.scatter(data['B'], data['D'], c=iris_types, cmap=cmap)\n",
    "plt.show()    "
   ]
  },
  {
   "cell_type": "code",
   "execution_count": 28,
   "metadata": {
    "collapsed": false
   },
   "outputs": [
    {
     "data": {
      "application/javascript": [
       "/* Put everything inside the global mpl namespace */\n",
       "window.mpl = {};\n",
       "\n",
       "mpl.get_websocket_type = function() {\n",
       "    if (typeof(WebSocket) !== 'undefined') {\n",
       "        return WebSocket;\n",
       "    } else if (typeof(MozWebSocket) !== 'undefined') {\n",
       "        return MozWebSocket;\n",
       "    } else {\n",
       "        alert('Your browser does not have WebSocket support.' +\n",
       "              'Please try Chrome, Safari or Firefox ≥ 6. ' +\n",
       "              'Firefox 4 and 5 are also supported but you ' +\n",
       "              'have to enable WebSockets in about:config.');\n",
       "    };\n",
       "}\n",
       "\n",
       "mpl.figure = function(figure_id, websocket, ondownload, parent_element) {\n",
       "    this.id = figure_id;\n",
       "\n",
       "    this.ws = websocket;\n",
       "\n",
       "    this.supports_binary = (this.ws.binaryType != undefined);\n",
       "\n",
       "    if (!this.supports_binary) {\n",
       "        var warnings = document.getElementById(\"mpl-warnings\");\n",
       "        if (warnings) {\n",
       "            warnings.style.display = 'block';\n",
       "            warnings.textContent = (\n",
       "                \"This browser does not support binary websocket messages. \" +\n",
       "                    \"Performance may be slow.\");\n",
       "        }\n",
       "    }\n",
       "\n",
       "    this.imageObj = new Image();\n",
       "\n",
       "    this.context = undefined;\n",
       "    this.message = undefined;\n",
       "    this.canvas = undefined;\n",
       "    this.rubberband_canvas = undefined;\n",
       "    this.rubberband_context = undefined;\n",
       "    this.format_dropdown = undefined;\n",
       "\n",
       "    this.image_mode = 'full';\n",
       "\n",
       "    this.root = $('<div/>');\n",
       "    this._root_extra_style(this.root)\n",
       "    this.root.attr('style', 'display: inline-block');\n",
       "\n",
       "    $(parent_element).append(this.root);\n",
       "\n",
       "    this._init_header(this);\n",
       "    this._init_canvas(this);\n",
       "    this._init_toolbar(this);\n",
       "\n",
       "    var fig = this;\n",
       "\n",
       "    this.waiting = false;\n",
       "\n",
       "    this.ws.onopen =  function () {\n",
       "            fig.send_message(\"supports_binary\", {value: fig.supports_binary});\n",
       "            fig.send_message(\"send_image_mode\", {});\n",
       "            fig.send_message(\"refresh\", {});\n",
       "        }\n",
       "\n",
       "    this.imageObj.onload = function() {\n",
       "            if (fig.image_mode == 'full') {\n",
       "                // Full images could contain transparency (where diff images\n",
       "                // almost always do), so we need to clear the canvas so that\n",
       "                // there is no ghosting.\n",
       "                fig.context.clearRect(0, 0, fig.canvas.width, fig.canvas.height);\n",
       "            }\n",
       "            fig.context.drawImage(fig.imageObj, 0, 0);\n",
       "        };\n",
       "\n",
       "    this.imageObj.onunload = function() {\n",
       "        this.ws.close();\n",
       "    }\n",
       "\n",
       "    this.ws.onmessage = this._make_on_message_function(this);\n",
       "\n",
       "    this.ondownload = ondownload;\n",
       "}\n",
       "\n",
       "mpl.figure.prototype._init_header = function() {\n",
       "    var titlebar = $(\n",
       "        '<div class=\"ui-dialog-titlebar ui-widget-header ui-corner-all ' +\n",
       "        'ui-helper-clearfix\"/>');\n",
       "    var titletext = $(\n",
       "        '<div class=\"ui-dialog-title\" style=\"width: 100%; ' +\n",
       "        'text-align: center; padding: 3px;\"/>');\n",
       "    titlebar.append(titletext)\n",
       "    this.root.append(titlebar);\n",
       "    this.header = titletext[0];\n",
       "}\n",
       "\n",
       "\n",
       "\n",
       "mpl.figure.prototype._canvas_extra_style = function(canvas_div) {\n",
       "\n",
       "}\n",
       "\n",
       "\n",
       "mpl.figure.prototype._root_extra_style = function(canvas_div) {\n",
       "\n",
       "}\n",
       "\n",
       "mpl.figure.prototype._init_canvas = function() {\n",
       "    var fig = this;\n",
       "\n",
       "    var canvas_div = $('<div/>');\n",
       "\n",
       "    canvas_div.attr('style', 'position: relative; clear: both; outline: 0');\n",
       "\n",
       "    function canvas_keyboard_event(event) {\n",
       "        return fig.key_event(event, event['data']);\n",
       "    }\n",
       "\n",
       "    canvas_div.keydown('key_press', canvas_keyboard_event);\n",
       "    canvas_div.keyup('key_release', canvas_keyboard_event);\n",
       "    this.canvas_div = canvas_div\n",
       "    this._canvas_extra_style(canvas_div)\n",
       "    this.root.append(canvas_div);\n",
       "\n",
       "    var canvas = $('<canvas/>');\n",
       "    canvas.addClass('mpl-canvas');\n",
       "    canvas.attr('style', \"left: 0; top: 0; z-index: 0; outline: 0\")\n",
       "\n",
       "    this.canvas = canvas[0];\n",
       "    this.context = canvas[0].getContext(\"2d\");\n",
       "\n",
       "    var rubberband = $('<canvas/>');\n",
       "    rubberband.attr('style', \"position: absolute; left: 0; top: 0; z-index: 1;\")\n",
       "\n",
       "    var pass_mouse_events = true;\n",
       "\n",
       "    canvas_div.resizable({\n",
       "        start: function(event, ui) {\n",
       "            pass_mouse_events = false;\n",
       "        },\n",
       "        resize: function(event, ui) {\n",
       "            fig.request_resize(ui.size.width, ui.size.height);\n",
       "        },\n",
       "        stop: function(event, ui) {\n",
       "            pass_mouse_events = true;\n",
       "            fig.request_resize(ui.size.width, ui.size.height);\n",
       "        },\n",
       "    });\n",
       "\n",
       "    function mouse_event_fn(event) {\n",
       "        if (pass_mouse_events)\n",
       "            return fig.mouse_event(event, event['data']);\n",
       "    }\n",
       "\n",
       "    rubberband.mousedown('button_press', mouse_event_fn);\n",
       "    rubberband.mouseup('button_release', mouse_event_fn);\n",
       "    // Throttle sequential mouse events to 1 every 20ms.\n",
       "    rubberband.mousemove('motion_notify', mouse_event_fn);\n",
       "\n",
       "    rubberband.mouseenter('figure_enter', mouse_event_fn);\n",
       "    rubberband.mouseleave('figure_leave', mouse_event_fn);\n",
       "\n",
       "    canvas_div.on(\"wheel\", function (event) {\n",
       "        event = event.originalEvent;\n",
       "        event['data'] = 'scroll'\n",
       "        if (event.deltaY < 0) {\n",
       "            event.step = 1;\n",
       "        } else {\n",
       "            event.step = -1;\n",
       "        }\n",
       "        mouse_event_fn(event);\n",
       "    });\n",
       "\n",
       "    canvas_div.append(canvas);\n",
       "    canvas_div.append(rubberband);\n",
       "\n",
       "    this.rubberband = rubberband;\n",
       "    this.rubberband_canvas = rubberband[0];\n",
       "    this.rubberband_context = rubberband[0].getContext(\"2d\");\n",
       "    this.rubberband_context.strokeStyle = \"#000000\";\n",
       "\n",
       "    this._resize_canvas = function(width, height) {\n",
       "        // Keep the size of the canvas, canvas container, and rubber band\n",
       "        // canvas in synch.\n",
       "        canvas_div.css('width', width)\n",
       "        canvas_div.css('height', height)\n",
       "\n",
       "        canvas.attr('width', width);\n",
       "        canvas.attr('height', height);\n",
       "\n",
       "        rubberband.attr('width', width);\n",
       "        rubberband.attr('height', height);\n",
       "    }\n",
       "\n",
       "    // Set the figure to an initial 600x600px, this will subsequently be updated\n",
       "    // upon first draw.\n",
       "    this._resize_canvas(600, 600);\n",
       "\n",
       "    // Disable right mouse context menu.\n",
       "    $(this.rubberband_canvas).bind(\"contextmenu\",function(e){\n",
       "        return false;\n",
       "    });\n",
       "\n",
       "    function set_focus () {\n",
       "        canvas.focus();\n",
       "        canvas_div.focus();\n",
       "    }\n",
       "\n",
       "    window.setTimeout(set_focus, 100);\n",
       "}\n",
       "\n",
       "mpl.figure.prototype._init_toolbar = function() {\n",
       "    var fig = this;\n",
       "\n",
       "    var nav_element = $('<div/>')\n",
       "    nav_element.attr('style', 'width: 100%');\n",
       "    this.root.append(nav_element);\n",
       "\n",
       "    // Define a callback function for later on.\n",
       "    function toolbar_event(event) {\n",
       "        return fig.toolbar_button_onclick(event['data']);\n",
       "    }\n",
       "    function toolbar_mouse_event(event) {\n",
       "        return fig.toolbar_button_onmouseover(event['data']);\n",
       "    }\n",
       "\n",
       "    for(var toolbar_ind in mpl.toolbar_items) {\n",
       "        var name = mpl.toolbar_items[toolbar_ind][0];\n",
       "        var tooltip = mpl.toolbar_items[toolbar_ind][1];\n",
       "        var image = mpl.toolbar_items[toolbar_ind][2];\n",
       "        var method_name = mpl.toolbar_items[toolbar_ind][3];\n",
       "\n",
       "        if (!name) {\n",
       "            // put a spacer in here.\n",
       "            continue;\n",
       "        }\n",
       "        var button = $('<button/>');\n",
       "        button.addClass('ui-button ui-widget ui-state-default ui-corner-all ' +\n",
       "                        'ui-button-icon-only');\n",
       "        button.attr('role', 'button');\n",
       "        button.attr('aria-disabled', 'false');\n",
       "        button.click(method_name, toolbar_event);\n",
       "        button.mouseover(tooltip, toolbar_mouse_event);\n",
       "\n",
       "        var icon_img = $('<span/>');\n",
       "        icon_img.addClass('ui-button-icon-primary ui-icon');\n",
       "        icon_img.addClass(image);\n",
       "        icon_img.addClass('ui-corner-all');\n",
       "\n",
       "        var tooltip_span = $('<span/>');\n",
       "        tooltip_span.addClass('ui-button-text');\n",
       "        tooltip_span.html(tooltip);\n",
       "\n",
       "        button.append(icon_img);\n",
       "        button.append(tooltip_span);\n",
       "\n",
       "        nav_element.append(button);\n",
       "    }\n",
       "\n",
       "    var fmt_picker_span = $('<span/>');\n",
       "\n",
       "    var fmt_picker = $('<select/>');\n",
       "    fmt_picker.addClass('mpl-toolbar-option ui-widget ui-widget-content');\n",
       "    fmt_picker_span.append(fmt_picker);\n",
       "    nav_element.append(fmt_picker_span);\n",
       "    this.format_dropdown = fmt_picker[0];\n",
       "\n",
       "    for (var ind in mpl.extensions) {\n",
       "        var fmt = mpl.extensions[ind];\n",
       "        var option = $(\n",
       "            '<option/>', {selected: fmt === mpl.default_extension}).html(fmt);\n",
       "        fmt_picker.append(option)\n",
       "    }\n",
       "\n",
       "    // Add hover states to the ui-buttons\n",
       "    $( \".ui-button\" ).hover(\n",
       "        function() { $(this).addClass(\"ui-state-hover\");},\n",
       "        function() { $(this).removeClass(\"ui-state-hover\");}\n",
       "    );\n",
       "\n",
       "    var status_bar = $('<span class=\"mpl-message\"/>');\n",
       "    nav_element.append(status_bar);\n",
       "    this.message = status_bar[0];\n",
       "}\n",
       "\n",
       "mpl.figure.prototype.request_resize = function(x_pixels, y_pixels) {\n",
       "    // Request matplotlib to resize the figure. Matplotlib will then trigger a resize in the client,\n",
       "    // which will in turn request a refresh of the image.\n",
       "    this.send_message('resize', {'width': x_pixels, 'height': y_pixels});\n",
       "}\n",
       "\n",
       "mpl.figure.prototype.send_message = function(type, properties) {\n",
       "    properties['type'] = type;\n",
       "    properties['figure_id'] = this.id;\n",
       "    this.ws.send(JSON.stringify(properties));\n",
       "}\n",
       "\n",
       "mpl.figure.prototype.send_draw_message = function() {\n",
       "    if (!this.waiting) {\n",
       "        this.waiting = true;\n",
       "        this.ws.send(JSON.stringify({type: \"draw\", figure_id: this.id}));\n",
       "    }\n",
       "}\n",
       "\n",
       "\n",
       "mpl.figure.prototype.handle_save = function(fig, msg) {\n",
       "    var format_dropdown = fig.format_dropdown;\n",
       "    var format = format_dropdown.options[format_dropdown.selectedIndex].value;\n",
       "    fig.ondownload(fig, format);\n",
       "}\n",
       "\n",
       "\n",
       "mpl.figure.prototype.handle_resize = function(fig, msg) {\n",
       "    var size = msg['size'];\n",
       "    if (size[0] != fig.canvas.width || size[1] != fig.canvas.height) {\n",
       "        fig._resize_canvas(size[0], size[1]);\n",
       "        fig.send_message(\"refresh\", {});\n",
       "    };\n",
       "}\n",
       "\n",
       "mpl.figure.prototype.handle_rubberband = function(fig, msg) {\n",
       "    var x0 = msg['x0'];\n",
       "    var y0 = fig.canvas.height - msg['y0'];\n",
       "    var x1 = msg['x1'];\n",
       "    var y1 = fig.canvas.height - msg['y1'];\n",
       "    x0 = Math.floor(x0) + 0.5;\n",
       "    y0 = Math.floor(y0) + 0.5;\n",
       "    x1 = Math.floor(x1) + 0.5;\n",
       "    y1 = Math.floor(y1) + 0.5;\n",
       "    var min_x = Math.min(x0, x1);\n",
       "    var min_y = Math.min(y0, y1);\n",
       "    var width = Math.abs(x1 - x0);\n",
       "    var height = Math.abs(y1 - y0);\n",
       "\n",
       "    fig.rubberband_context.clearRect(\n",
       "        0, 0, fig.canvas.width, fig.canvas.height);\n",
       "\n",
       "    fig.rubberband_context.strokeRect(min_x, min_y, width, height);\n",
       "}\n",
       "\n",
       "mpl.figure.prototype.handle_figure_label = function(fig, msg) {\n",
       "    // Updates the figure title.\n",
       "    fig.header.textContent = msg['label'];\n",
       "}\n",
       "\n",
       "mpl.figure.prototype.handle_cursor = function(fig, msg) {\n",
       "    var cursor = msg['cursor'];\n",
       "    switch(cursor)\n",
       "    {\n",
       "    case 0:\n",
       "        cursor = 'pointer';\n",
       "        break;\n",
       "    case 1:\n",
       "        cursor = 'default';\n",
       "        break;\n",
       "    case 2:\n",
       "        cursor = 'crosshair';\n",
       "        break;\n",
       "    case 3:\n",
       "        cursor = 'move';\n",
       "        break;\n",
       "    }\n",
       "    fig.rubberband_canvas.style.cursor = cursor;\n",
       "}\n",
       "\n",
       "mpl.figure.prototype.handle_message = function(fig, msg) {\n",
       "    fig.message.textContent = msg['message'];\n",
       "}\n",
       "\n",
       "mpl.figure.prototype.handle_draw = function(fig, msg) {\n",
       "    // Request the server to send over a new figure.\n",
       "    fig.send_draw_message();\n",
       "}\n",
       "\n",
       "mpl.figure.prototype.handle_image_mode = function(fig, msg) {\n",
       "    fig.image_mode = msg['mode'];\n",
       "}\n",
       "\n",
       "mpl.figure.prototype.updated_canvas_event = function() {\n",
       "    // Called whenever the canvas gets updated.\n",
       "    this.send_message(\"ack\", {});\n",
       "}\n",
       "\n",
       "// A function to construct a web socket function for onmessage handling.\n",
       "// Called in the figure constructor.\n",
       "mpl.figure.prototype._make_on_message_function = function(fig) {\n",
       "    return function socket_on_message(evt) {\n",
       "        if (evt.data instanceof Blob) {\n",
       "            /* FIXME: We get \"Resource interpreted as Image but\n",
       "             * transferred with MIME type text/plain:\" errors on\n",
       "             * Chrome.  But how to set the MIME type?  It doesn't seem\n",
       "             * to be part of the websocket stream */\n",
       "            evt.data.type = \"image/png\";\n",
       "\n",
       "            /* Free the memory for the previous frames */\n",
       "            if (fig.imageObj.src) {\n",
       "                (window.URL || window.webkitURL).revokeObjectURL(\n",
       "                    fig.imageObj.src);\n",
       "            }\n",
       "\n",
       "            fig.imageObj.src = (window.URL || window.webkitURL).createObjectURL(\n",
       "                evt.data);\n",
       "            fig.updated_canvas_event();\n",
       "            fig.waiting = false;\n",
       "            return;\n",
       "        }\n",
       "        else if (typeof evt.data === 'string' && evt.data.slice(0, 21) == \"data:image/png;base64\") {\n",
       "            fig.imageObj.src = evt.data;\n",
       "            fig.updated_canvas_event();\n",
       "            fig.waiting = false;\n",
       "            return;\n",
       "        }\n",
       "\n",
       "        var msg = JSON.parse(evt.data);\n",
       "        var msg_type = msg['type'];\n",
       "\n",
       "        // Call the  \"handle_{type}\" callback, which takes\n",
       "        // the figure and JSON message as its only arguments.\n",
       "        try {\n",
       "            var callback = fig[\"handle_\" + msg_type];\n",
       "        } catch (e) {\n",
       "            console.log(\"No handler for the '\" + msg_type + \"' message type: \", msg);\n",
       "            return;\n",
       "        }\n",
       "\n",
       "        if (callback) {\n",
       "            try {\n",
       "                // console.log(\"Handling '\" + msg_type + \"' message: \", msg);\n",
       "                callback(fig, msg);\n",
       "            } catch (e) {\n",
       "                console.log(\"Exception inside the 'handler_\" + msg_type + \"' callback:\", e, e.stack, msg);\n",
       "            }\n",
       "        }\n",
       "    };\n",
       "}\n",
       "\n",
       "// from http://stackoverflow.com/questions/1114465/getting-mouse-location-in-canvas\n",
       "mpl.findpos = function(e) {\n",
       "    //this section is from http://www.quirksmode.org/js/events_properties.html\n",
       "    var targ;\n",
       "    if (!e)\n",
       "        e = window.event;\n",
       "    if (e.target)\n",
       "        targ = e.target;\n",
       "    else if (e.srcElement)\n",
       "        targ = e.srcElement;\n",
       "    if (targ.nodeType == 3) // defeat Safari bug\n",
       "        targ = targ.parentNode;\n",
       "\n",
       "    // jQuery normalizes the pageX and pageY\n",
       "    // pageX,Y are the mouse positions relative to the document\n",
       "    // offset() returns the position of the element relative to the document\n",
       "    var x = e.pageX - $(targ).offset().left;\n",
       "    var y = e.pageY - $(targ).offset().top;\n",
       "\n",
       "    return {\"x\": x, \"y\": y};\n",
       "};\n",
       "\n",
       "/*\n",
       " * return a copy of an object with only non-object keys\n",
       " * we need this to avoid circular references\n",
       " * http://stackoverflow.com/a/24161582/3208463\n",
       " */\n",
       "function simpleKeys (original) {\n",
       "  return Object.keys(original).reduce(function (obj, key) {\n",
       "    if (typeof original[key] !== 'object')\n",
       "        obj[key] = original[key]\n",
       "    return obj;\n",
       "  }, {});\n",
       "}\n",
       "\n",
       "mpl.figure.prototype.mouse_event = function(event, name) {\n",
       "    var canvas_pos = mpl.findpos(event)\n",
       "\n",
       "    if (name === 'button_press')\n",
       "    {\n",
       "        this.canvas.focus();\n",
       "        this.canvas_div.focus();\n",
       "    }\n",
       "\n",
       "    var x = canvas_pos.x;\n",
       "    var y = canvas_pos.y;\n",
       "\n",
       "    this.send_message(name, {x: x, y: y, button: event.button,\n",
       "                             step: event.step,\n",
       "                             guiEvent: simpleKeys(event)});\n",
       "\n",
       "    /* This prevents the web browser from automatically changing to\n",
       "     * the text insertion cursor when the button is pressed.  We want\n",
       "     * to control all of the cursor setting manually through the\n",
       "     * 'cursor' event from matplotlib */\n",
       "    event.preventDefault();\n",
       "    return false;\n",
       "}\n",
       "\n",
       "mpl.figure.prototype._key_event_extra = function(event, name) {\n",
       "    // Handle any extra behaviour associated with a key event\n",
       "}\n",
       "\n",
       "mpl.figure.prototype.key_event = function(event, name) {\n",
       "\n",
       "    // Prevent repeat events\n",
       "    if (name == 'key_press')\n",
       "    {\n",
       "        if (event.which === this._key)\n",
       "            return;\n",
       "        else\n",
       "            this._key = event.which;\n",
       "    }\n",
       "    if (name == 'key_release')\n",
       "        this._key = null;\n",
       "\n",
       "    var value = '';\n",
       "    if (event.ctrlKey && event.which != 17)\n",
       "        value += \"ctrl+\";\n",
       "    if (event.altKey && event.which != 18)\n",
       "        value += \"alt+\";\n",
       "    if (event.shiftKey && event.which != 16)\n",
       "        value += \"shift+\";\n",
       "\n",
       "    value += 'k';\n",
       "    value += event.which.toString();\n",
       "\n",
       "    this._key_event_extra(event, name);\n",
       "\n",
       "    this.send_message(name, {key: value,\n",
       "                             guiEvent: simpleKeys(event)});\n",
       "    return false;\n",
       "}\n",
       "\n",
       "mpl.figure.prototype.toolbar_button_onclick = function(name) {\n",
       "    if (name == 'download') {\n",
       "        this.handle_save(this, null);\n",
       "    } else {\n",
       "        this.send_message(\"toolbar_button\", {name: name});\n",
       "    }\n",
       "};\n",
       "\n",
       "mpl.figure.prototype.toolbar_button_onmouseover = function(tooltip) {\n",
       "    this.message.textContent = tooltip;\n",
       "};\n",
       "mpl.toolbar_items = [[\"Home\", \"Reset original view\", \"fa fa-home icon-home\", \"home\"], [\"Back\", \"Back to  previous view\", \"fa fa-arrow-left icon-arrow-left\", \"back\"], [\"Forward\", \"Forward to next view\", \"fa fa-arrow-right icon-arrow-right\", \"forward\"], [\"\", \"\", \"\", \"\"], [\"Pan\", \"Pan axes with left mouse, zoom with right\", \"fa fa-arrows icon-move\", \"pan\"], [\"Zoom\", \"Zoom to rectangle\", \"fa fa-square-o icon-check-empty\", \"zoom\"], [\"\", \"\", \"\", \"\"], [\"Download\", \"Download plot\", \"fa fa-floppy-o icon-save\", \"download\"]];\n",
       "\n",
       "mpl.extensions = [\"eps\", \"jpeg\", \"pdf\", \"png\", \"ps\", \"raw\", \"svg\", \"tif\"];\n",
       "\n",
       "mpl.default_extension = \"png\";var comm_websocket_adapter = function(comm) {\n",
       "    // Create a \"websocket\"-like object which calls the given IPython comm\n",
       "    // object with the appropriate methods. Currently this is a non binary\n",
       "    // socket, so there is still some room for performance tuning.\n",
       "    var ws = {};\n",
       "\n",
       "    ws.close = function() {\n",
       "        comm.close()\n",
       "    };\n",
       "    ws.send = function(m) {\n",
       "        //console.log('sending', m);\n",
       "        comm.send(m);\n",
       "    };\n",
       "    // Register the callback with on_msg.\n",
       "    comm.on_msg(function(msg) {\n",
       "        //console.log('receiving', msg['content']['data'], msg);\n",
       "        // Pass the mpl event to the overriden (by mpl) onmessage function.\n",
       "        ws.onmessage(msg['content']['data'])\n",
       "    });\n",
       "    return ws;\n",
       "}\n",
       "\n",
       "mpl.mpl_figure_comm = function(comm, msg) {\n",
       "    // This is the function which gets called when the mpl process\n",
       "    // starts-up an IPython Comm through the \"matplotlib\" channel.\n",
       "\n",
       "    var id = msg.content.data.id;\n",
       "    // Get hold of the div created by the display call when the Comm\n",
       "    // socket was opened in Python.\n",
       "    var element = $(\"#\" + id);\n",
       "    var ws_proxy = comm_websocket_adapter(comm)\n",
       "\n",
       "    function ondownload(figure, format) {\n",
       "        window.open(figure.imageObj.src);\n",
       "    }\n",
       "\n",
       "    var fig = new mpl.figure(id, ws_proxy,\n",
       "                           ondownload,\n",
       "                           element.get(0));\n",
       "\n",
       "    // Call onopen now - mpl needs it, as it is assuming we've passed it a real\n",
       "    // web socket which is closed, not our websocket->open comm proxy.\n",
       "    ws_proxy.onopen();\n",
       "\n",
       "    fig.parent_element = element.get(0);\n",
       "    fig.cell_info = mpl.find_output_cell(\"<div id='\" + id + \"'></div>\");\n",
       "    if (!fig.cell_info) {\n",
       "        console.error(\"Failed to find cell for figure\", id, fig);\n",
       "        return;\n",
       "    }\n",
       "\n",
       "    var output_index = fig.cell_info[2]\n",
       "    var cell = fig.cell_info[0];\n",
       "\n",
       "};\n",
       "\n",
       "mpl.figure.prototype.handle_close = function(fig, msg) {\n",
       "    fig.root.unbind('remove')\n",
       "\n",
       "    // Update the output cell to use the data from the current canvas.\n",
       "    fig.push_to_output();\n",
       "    var dataURL = fig.canvas.toDataURL();\n",
       "    // Re-enable the keyboard manager in IPython - without this line, in FF,\n",
       "    // the notebook keyboard shortcuts fail.\n",
       "    IPython.keyboard_manager.enable()\n",
       "    $(fig.parent_element).html('<img src=\"' + dataURL + '\">');\n",
       "    fig.close_ws(fig, msg);\n",
       "}\n",
       "\n",
       "mpl.figure.prototype.close_ws = function(fig, msg){\n",
       "    fig.send_message('closing', msg);\n",
       "    // fig.ws.close()\n",
       "}\n",
       "\n",
       "mpl.figure.prototype.push_to_output = function(remove_interactive) {\n",
       "    // Turn the data on the canvas into data in the output cell.\n",
       "    var dataURL = this.canvas.toDataURL();\n",
       "    this.cell_info[1]['text/html'] = '<img src=\"' + dataURL + '\">';\n",
       "}\n",
       "\n",
       "mpl.figure.prototype.updated_canvas_event = function() {\n",
       "    // Tell IPython that the notebook contents must change.\n",
       "    IPython.notebook.set_dirty(true);\n",
       "    this.send_message(\"ack\", {});\n",
       "    var fig = this;\n",
       "    // Wait a second, then push the new image to the DOM so\n",
       "    // that it is saved nicely (might be nice to debounce this).\n",
       "    setTimeout(function () { fig.push_to_output() }, 1000);\n",
       "}\n",
       "\n",
       "mpl.figure.prototype._init_toolbar = function() {\n",
       "    var fig = this;\n",
       "\n",
       "    var nav_element = $('<div/>')\n",
       "    nav_element.attr('style', 'width: 100%');\n",
       "    this.root.append(nav_element);\n",
       "\n",
       "    // Define a callback function for later on.\n",
       "    function toolbar_event(event) {\n",
       "        return fig.toolbar_button_onclick(event['data']);\n",
       "    }\n",
       "    function toolbar_mouse_event(event) {\n",
       "        return fig.toolbar_button_onmouseover(event['data']);\n",
       "    }\n",
       "\n",
       "    for(var toolbar_ind in mpl.toolbar_items){\n",
       "        var name = mpl.toolbar_items[toolbar_ind][0];\n",
       "        var tooltip = mpl.toolbar_items[toolbar_ind][1];\n",
       "        var image = mpl.toolbar_items[toolbar_ind][2];\n",
       "        var method_name = mpl.toolbar_items[toolbar_ind][3];\n",
       "\n",
       "        if (!name) { continue; };\n",
       "\n",
       "        var button = $('<button class=\"btn btn-default\" href=\"#\" title=\"' + name + '\"><i class=\"fa ' + image + ' fa-lg\"></i></button>');\n",
       "        button.click(method_name, toolbar_event);\n",
       "        button.mouseover(tooltip, toolbar_mouse_event);\n",
       "        nav_element.append(button);\n",
       "    }\n",
       "\n",
       "    // Add the status bar.\n",
       "    var status_bar = $('<span class=\"mpl-message\" style=\"text-align:right; float: right;\"/>');\n",
       "    nav_element.append(status_bar);\n",
       "    this.message = status_bar[0];\n",
       "\n",
       "    // Add the close button to the window.\n",
       "    var buttongrp = $('<div class=\"btn-group inline pull-right\"></div>');\n",
       "    var button = $('<button class=\"btn btn-mini btn-primary\" href=\"#\" title=\"Stop Interaction\"><i class=\"fa fa-power-off icon-remove icon-large\"></i></button>');\n",
       "    button.click(function (evt) { fig.handle_close(fig, {}); } );\n",
       "    button.mouseover('Stop Interaction', toolbar_mouse_event);\n",
       "    buttongrp.append(button);\n",
       "    var titlebar = this.root.find($('.ui-dialog-titlebar'));\n",
       "    titlebar.prepend(buttongrp);\n",
       "}\n",
       "\n",
       "mpl.figure.prototype._root_extra_style = function(el){\n",
       "    var fig = this\n",
       "    el.on(\"remove\", function(){\n",
       "\tfig.close_ws(fig, {});\n",
       "    });\n",
       "}\n",
       "\n",
       "mpl.figure.prototype._canvas_extra_style = function(el){\n",
       "    // this is important to make the div 'focusable\n",
       "    el.attr('tabindex', 0)\n",
       "    // reach out to IPython and tell the keyboard manager to turn it's self\n",
       "    // off when our div gets focus\n",
       "\n",
       "    // location in version 3\n",
       "    if (IPython.notebook.keyboard_manager) {\n",
       "        IPython.notebook.keyboard_manager.register_events(el);\n",
       "    }\n",
       "    else {\n",
       "        // location in version 2\n",
       "        IPython.keyboard_manager.register_events(el);\n",
       "    }\n",
       "\n",
       "}\n",
       "\n",
       "mpl.figure.prototype._key_event_extra = function(event, name) {\n",
       "    var manager = IPython.notebook.keyboard_manager;\n",
       "    if (!manager)\n",
       "        manager = IPython.keyboard_manager;\n",
       "\n",
       "    // Check for shift+enter\n",
       "    if (event.shiftKey && event.which == 13) {\n",
       "        this.canvas_div.blur();\n",
       "        event.shiftKey = false;\n",
       "        // Send a \"J\" for go to next cell\n",
       "        event.which = 74;\n",
       "        event.keyCode = 74;\n",
       "        manager.command_mode();\n",
       "        manager.handle_keydown(event);\n",
       "    }\n",
       "}\n",
       "\n",
       "mpl.figure.prototype.handle_save = function(fig, msg) {\n",
       "    fig.ondownload(fig, null);\n",
       "}\n",
       "\n",
       "\n",
       "mpl.find_output_cell = function(html_output) {\n",
       "    // Return the cell and output element which can be found *uniquely* in the notebook.\n",
       "    // Note - this is a bit hacky, but it is done because the \"notebook_saving.Notebook\"\n",
       "    // IPython event is triggered only after the cells have been serialised, which for\n",
       "    // our purposes (turning an active figure into a static one), is too late.\n",
       "    var cells = IPython.notebook.get_cells();\n",
       "    var ncells = cells.length;\n",
       "    for (var i=0; i<ncells; i++) {\n",
       "        var cell = cells[i];\n",
       "        if (cell.cell_type === 'code'){\n",
       "            for (var j=0; j<cell.output_area.outputs.length; j++) {\n",
       "                var data = cell.output_area.outputs[j];\n",
       "                if (data.data) {\n",
       "                    // IPython >= 3 moved mimebundle to data attribute of output\n",
       "                    data = data.data;\n",
       "                }\n",
       "                if (data['text/html'] == html_output) {\n",
       "                    return [cell, data, j];\n",
       "                }\n",
       "            }\n",
       "        }\n",
       "    }\n",
       "}\n",
       "\n",
       "// Register the function which deals with the matplotlib target/channel.\n",
       "// The kernel may be null if the page has been refreshed.\n",
       "if (IPython.notebook.kernel != null) {\n",
       "    IPython.notebook.kernel.comm_manager.register_target('matplotlib', mpl.mpl_figure_comm);\n",
       "}\n"
      ],
      "text/plain": [
       "<IPython.core.display.Javascript object>"
      ]
     },
     "metadata": {},
     "output_type": "display_data"
    },
    {
     "data": {
      "text/html": [
       "<img src=\"data:image/png;base64,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\">"
      ],
      "text/plain": [
       "<IPython.core.display.HTML object>"
      ]
     },
     "metadata": {},
     "output_type": "display_data"
    }
   ],
   "source": [
    "%matplotlib notebook\n",
    "from mpl_toolkits.mplot3d import Axes3D\n",
    "ax = (plt.figure()).add_subplot(111, projection='3d')\n",
    "ax.scatter(data['A'], data['B'], data['C'], c=iris_types)\n",
    "plt.show()"
   ]
  },
  {
   "cell_type": "code",
   "execution_count": 251,
   "metadata": {
    "collapsed": false
   },
   "outputs": [
    {
     "name": "stdout",
     "output_type": "stream",
     "text": [
      "[[6.0 3.0 4.8 1.8 'Iris-virginica']\n",
      " [5.1 3.5 1.4 0.2 'Iris-setosa']\n",
      " [5.9 3.2 4.8 1.8 'Iris-versicolor']\n",
      " [6.4 2.8 5.6 2.1 'Iris-virginica']\n",
      " [6.0 2.2 5.0 1.5 'Iris-virginica']\n",
      " [7.2 3.2 6.0 1.8 'Iris-virginica']\n",
      " [5.6 2.8 4.9 2.0 'Iris-virginica']\n",
      " [5.1 3.7 1.5 0.4 'Iris-setosa']\n",
      " [4.4 3.2 1.3 0.2 'Iris-setosa']\n",
      " [5.2 3.4 1.4 0.2 'Iris-setosa']]\n",
      "[[1 6.0 3.0 4.8 1.8]\n",
      " [1 5.1 3.5 1.4 0.2]\n",
      " [1 5.9 3.2 4.8 1.8]\n",
      " [1 6.4 2.8 5.6 2.1]\n",
      " [1 6.0 2.2 5.0 1.5]\n",
      " [1 7.2 3.2 6.0 1.8]\n",
      " [1 5.6 2.8 4.9 2.0]\n",
      " [1 5.1 3.7 1.5 0.4]\n",
      " [1 4.4 3.2 1.3 0.2]\n",
      " [1 5.2 3.4 1.4 0.2]] [3 1 2 3 3 3 3 1 1 1]\n"
     ]
    }
   ],
   "source": [
    "data = data.iloc[np.random.permutation(len(data))]\n",
    "w = data.as_matrix()\n",
    "print w[:10]\n",
    "X = np.insert(w[:, :4], 0, 1, axis=1)\n",
    "Y = np.array(map(lambda t: it[t], (w[:, 4:]).flatten()))\n",
    "print X[:10], Y[:10]"
   ]
  },
  {
   "cell_type": "code",
   "execution_count": 252,
   "metadata": {
    "collapsed": false
   },
   "outputs": [
    {
     "data": {
      "text/plain": [
       "array([[ 0.65788759,  0.59275789,  0.27455174,  0.61999895,  0.9156437 ],\n",
       "       [ 0.14381755,  0.74397814,  0.99911123,  0.85470092,  0.1318587 ],\n",
       "       [ 0.66414719,  0.86554319,  0.44407076,  0.10572118,  0.09562657]])"
      ]
     },
     "execution_count": 252,
     "metadata": {},
     "output_type": "execute_result"
    }
   ],
   "source": [
    "theta = np.random.uniform(size=(3,5))\n",
    "theta"
   ]
  },
  {
   "cell_type": "code",
   "execution_count": 253,
   "metadata": {
    "collapsed": true
   },
   "outputs": [],
   "source": [
    "X_train, X_validation, X_test = X[:100], X[100: 125], X[125:]\n",
    "Y_train, Y_validation, Y_test = Y[:100], Y[100: 125], Y[125:]"
   ]
  },
  {
   "cell_type": "markdown",
   "metadata": {},
   "source": [
    "# Classification"
   ]
  },
  {
   "cell_type": "markdown",
   "metadata": {},
   "source": [
    "### Implement the \"loss\" function for Logistic Regression"
   ]
  },
  {
   "cell_type": "code",
   "execution_count": 215,
   "metadata": {
    "collapsed": true
   },
   "outputs": [],
   "source": [
    "def sigmoid(x):\n",
    "    return 1 / (1 + np.exp(-x.astype(float) if hasattr(x, \"__len__\") else -x))"
   ]
  },
  {
   "cell_type": "code",
   "execution_count": 158,
   "metadata": {
    "collapsed": false
   },
   "outputs": [],
   "source": [
    "def h(theta, x):\n",
    "    return sigmoid(np.dot(x, theta.T))"
   ]
  },
  {
   "cell_type": "code",
   "execution_count": 162,
   "metadata": {
    "collapsed": true
   },
   "outputs": [],
   "source": [
    "def loss(x, y, theta):\n",
    "    p = h(theta, x)\n",
    "    return (-y.dot(np.log(p)) - (1-y).dot(np.log(1 - p))) / len(y)"
   ]
  },
  {
   "cell_type": "code",
   "execution_count": 220,
   "metadata": {
    "collapsed": true
   },
   "outputs": [],
   "source": [
    "def multiclassLoss(x, y, theta):\n",
    "    l = 0\n",
    "    for c in range(3):\n",
    "        Z = y.astype(float) / (c + 1)\n",
    "        Z[Z != 1] = 0\n",
    "        l += loss(x, Z, theta[c])\n",
    "    return l"
   ]
  },
  {
   "cell_type": "markdown",
   "metadata": {},
   "source": [
    "### Implement the \"fit\" function gradient descent"
   ]
  },
  {
   "cell_type": "code",
   "execution_count": 185,
   "metadata": {
    "collapsed": true
   },
   "outputs": [],
   "source": [
    "def fit(x, y, c, alpha):\n",
    "    global theta\n",
    "    diff = np.subtract(h(theta[c], x), y)\n",
    "    theta[c] = theta[c] - alpha * (x.T).dot(diff) / len(y)"
   ]
  },
  {
   "cell_type": "markdown",
   "metadata": {},
   "source": [
    "### Implement predict function"
   ]
  },
  {
   "cell_type": "code",
   "execution_count": 65,
   "metadata": {
    "collapsed": true
   },
   "outputs": [],
   "source": [
    "def predict(theta, x):\n",
    "    predictions = np.array([h(theta[i], x) for i in range(3)])\n",
    "    max_elem = np.max(predictions)\n",
    "    return np.where(predictions == max_elem)[0][0] + 1"
   ]
  },
  {
   "cell_type": "markdown",
   "metadata": {},
   "source": [
    "### To evaluate the model, use accuracy, precision and recall metrics"
   ]
  },
  {
   "cell_type": "code",
   "execution_count": 277,
   "metadata": {
    "collapsed": true
   },
   "outputs": [],
   "source": [
    "def accuracy(x, y):\n",
    "    s = sum(np.abs(x - y)) + 0.\n",
    "    return (len(x) - s) / len(x)"
   ]
  },
  {
   "cell_type": "code",
   "execution_count": 278,
   "metadata": {
    "collapsed": false
   },
   "outputs": [
    {
     "data": {
      "text/plain": [
       "0.96666666666666667"
      ]
     },
     "execution_count": 278,
     "metadata": {},
     "output_type": "execute_result"
    }
   ],
   "source": [
    "preds = np.array([predict(theta, X[i]) for i in range(len(X))])\n",
    "accuracy(preds, Y)"
   ]
  },
  {
   "cell_type": "markdown",
   "metadata": {},
   "source": [
    "### Choose the best learning rate"
   ]
  },
  {
   "cell_type": "code",
   "execution_count": 232,
   "metadata": {
    "collapsed": true
   },
   "outputs": [],
   "source": [
    "def learn(alpha):\n",
    "    print \"Learning for alpha: \", alpha\n",
    "    global theta\n",
    "    theta = np.random.uniform(size=(3,5))\n",
    "    for c in range(3):\n",
    "        Z = Y_train.astype(float) / (c + 1)\n",
    "        Z[Z != 1] = 0\n",
    "        for _ in range(30000):\n",
    "            fit(X_train, Z, c, alpha)"
   ]
  },
  {
   "cell_type": "code",
   "execution_count": 254,
   "metadata": {
    "collapsed": false
   },
   "outputs": [
    {
     "name": "stdout",
     "output_type": "stream",
     "text": [
      "Learning for alpha:  0.4\n",
      "Learning for alpha:  0.363636363636\n",
      "Learning for alpha:  0.330578512397\n",
      "Learning for alpha:  0.300525920361\n",
      "Learning for alpha:  0.273205382146\n",
      "Learning for alpha:  0.248368529224\n",
      "Learning for alpha:  0.225789572022\n",
      "Learning for alpha:  0.205263247292\n",
      "Learning for alpha:  0.186602952084\n",
      "Learning for alpha:  0.169639047349\n",
      "Learning for alpha:  0.154217315772\n",
      "Learning for alpha:  0.140197559793\n",
      "Learning for alpha:  0.127452327084\n",
      "Learning for alpha:  0.115865751895\n",
      "Learning for alpha:  0.105332501722\n",
      "Learning for alpha:  0.0957568197477\n",
      "Learning for alpha:  0.0870516543161\n",
      "Learning for alpha:  0.0791378675601\n",
      "Learning for alpha:  0.0719435159637\n",
      "Learning for alpha:  0.0654031963306\n",
      "Learning Rate:  0.0594574512097\n"
     ]
    },
    {
     "data": {
      "image/png": "[encoded data removed]",
      "text/plain": [
       "<matplotlib.figure.Figure at 0x7f52f79af2d0>"
      ]
     },
     "metadata": {},
     "output_type": "display_data"
    }
   ],
   "source": [
    "def chooseAlpha(start):\n",
    "    l = 65000\n",
    "    for _ in range(20):\n",
    "        learn(start)\n",
    "        t = multiclassLoss(X_validation, Y_validation, theta)\n",
    "        plt.scatter(start, t)\n",
    "#         if (t > l):\n",
    "#             break\n",
    "        l = t\n",
    "        start /= 1.1\n",
    "    return start\n",
    "\n",
    "alpha = chooseAlpha(0.4)\n",
    "print \"Learning Rate: \", alpha\n",
    "plt.show()"
   ]
  },
  {
   "cell_type": "code",
   "execution_count": 284,
   "metadata": {
    "collapsed": true
   },
   "outputs": [],
   "source": [
    "# from the plot we see that the best learning rate is around 0.2\n",
    "alpha = 0.2"
   ]
  },
  {
   "cell_type": "markdown",
   "metadata": {},
   "source": [
    "### Plot loss output depending on iteration"
   ]
  },
  {
   "cell_type": "code",
   "execution_count": 281,
   "metadata": {
    "collapsed": false
   },
   "outputs": [],
   "source": [
    "theta = np.random.uniform(size=(3,5))\n",
    "def iterate():\n",
    "    for c in range(3):\n",
    "        Z = Y_train.astype(float) / (c + 1)\n",
    "        Z[Z != 1] = 0\n",
    "        fit(X_train, Z, c, alpha)\n",
    "    return multiclassLoss(X_train, Y_train, theta)\n",
    "\n",
    "losses = [iterate() for i in range(6000)]"
   ]
  },
  {
   "cell_type": "code",
   "execution_count": 282,
   "metadata": {
    "collapsed": false
   },
   "outputs": [
    {
     "data": {
      "image/png": "[encoded data removed]",
      "text/plain": [
       "<matplotlib.figure.Figure at 0x7f5290c47a50>"
      ]
     },
     "metadata": {},
     "output_type": "display_data"
    }
   ],
   "source": [
    "plt.plot(losses)\n",
    "plt.show()"
   ]
  },
  {
   "cell_type": "markdown",
   "metadata": {},
   "source": [
    "### Report the prediction accuracy on test data"
   ]
  },
  {
   "cell_type": "code",
   "execution_count": 283,
   "metadata": {
    "collapsed": false
   },
   "outputs": [
    {
     "name": "stdout",
     "output_type": "stream",
     "text": [
      "Learning for alpha:  0.2\n"
     ]
    },
    {
     "data": {
      "text/plain": [
       "0.95999999999999996"
      ]
     },
     "execution_count": 283,
     "metadata": {},
     "output_type": "execute_result"
    }
   ],
   "source": [
    "learn(alpha)\n",
    "preds = np.array([predict(theta, X_test[i]) for i in range(len(X_test))])\n",
    "accuracy(preds, Y_test)"
   ]
  },
  {
   "cell_type": "markdown",
   "metadata": {},
   "source": [
    "## Clustering"
   ]
  },
  {
   "cell_type": "markdown",
   "metadata": {},
   "source": [
    "### Implement the K-means algorithm"
   ]
  },
  {
   "cell_type": "code",
   "execution_count": null,
   "metadata": {
    "collapsed": false
   },
   "outputs": [],
   "source": [
    "X_kTrain, X_kTest = X[:125, 1:], X[125:, 1:]"
   ]
  },
  {
   "cell_type": "code",
   "execution_count": 315,
   "metadata": {
    "collapsed": true
   },
   "outputs": [],
   "source": [
    "def dist(x, y):\n",
    "    return np.sqrt(np.sum((x - y) ** 2))"
   ]
  },
  {
   "cell_type": "code",
   "execution_count": 339,
   "metadata": {
    "collapsed": true
   },
   "outputs": [],
   "source": [
    "def getClosestCluster(x, clusters):\n",
    "    dists = np.array([dist(x, cluster) for cluster in clusters])\n",
    "    min_dist = np.min(dists)\n",
    "    return np.where(dists == min_dist)[0][0]"
   ]
  },
  {
   "cell_type": "code",
   "execution_count": 450,
   "metadata": {
    "collapsed": false
   },
   "outputs": [],
   "source": [
    "def Kmeans(K):\n",
    "    index_arr = np.arange(len(X_kTrain))\n",
    "    np.random.shuffle(index_arr)\n",
    "    ccenters = X_kTrain[index_arr[:K]]\n",
    "\n",
    "    for _ in range(20):\n",
    "        sums = np.zeros((K, 4))\n",
    "        qty = np.zeros(K)\n",
    "        for p in X_kTrain:\n",
    "            c = getClosestCluster(p, ccenters)\n",
    "            sums[c] = sums[c] + p\n",
    "            qty[c] += 1\n",
    "        for i in range(K):\n",
    "            ccenters[i] = sums[i] / qty[i]\n",
    "    return ccenters"
   ]
  },
  {
   "cell_type": "code",
   "execution_count": 444,
   "metadata": {
    "collapsed": false
   },
   "outputs": [],
   "source": [
    "def KmeansErr(x, clusters):\n",
    "    err = 0\n",
    "    for p in x:\n",
    "        c = getClosestCluster(p, clusters)\n",
    "        err += np.sum((p - clusters[c]) ** 2)\n",
    "    return np.sqrt(err) / len(x)"
   ]
  },
  {
   "cell_type": "markdown",
   "metadata": {},
   "source": [
    "### Choose the best-K, using the elbow method "
   ]
  },
  {
   "cell_type": "code",
   "execution_count": 482,
   "metadata": {
    "collapsed": false
   },
   "outputs": [
    {
     "data": {
      "image/png": "[encoded data removed]",
      "text/plain": [
       "<matplotlib.figure.Figure at 0x7f524c346b50>"
      ]
     },
     "metadata": {},
     "output_type": "display_data"
    }
   ],
   "source": [
    "for _ in range(20):\n",
    "    for k in range(1, 7):\n",
    "        plt.scatter(k, KmeansErr(X_kTrain, Kmeans(k)))\n",
    "plt.show()"
   ]
  },
  {
   "cell_type": "code",
   "execution_count": 511,
   "metadata": {
    "collapsed": true
   },
   "outputs": [],
   "source": [
    "# We see that error hardly differs after k = 3, so our model has found three clusters as it is given in data"
   ]
  },
  {
   "cell_type": "markdown",
   "metadata": {},
   "source": [
    "### See whether the clustering algorithm really captures the underying data distribution by assigning labels to each cluster and comaring with ground truth"
   ]
  },
  {
   "cell_type": "code",
   "execution_count": 498,
   "metadata": {
    "collapsed": false
   },
   "outputs": [
    {
     "name": "stdout",
     "output_type": "stream",
     "text": [
      "[ 50.  65.  35.]\n"
     ]
    }
   ],
   "source": [
    "clus = Kmeans(3)\n",
    "freq = np.zeros(3)\n",
    "for p in X[:, 1:]:\n",
    "    c = getClosestCluster(p, clus)\n",
    "    freq[c] += 1\n",
    "print freq"
   ]
  },
  {
   "cell_type": "code",
   "execution_count": 509,
   "metadata": {
    "collapsed": false
   },
   "outputs": [
    {
     "data": {
      "text/plain": [
       "array([[1, 0, 1, 2, 1, 2, 1, 0, 0, 0, 1, 0, 2, 0, 0, 2, 2, 1, 1, 1, 1, 2,\n",
       "        0, 0, 2, 1, 2, 1, 1, 0, 1, 0, 1, 0, 0, 1, 1, 1, 1, 1, 0, 0, 0, 2,\n",
       "        0, 0, 2, 1, 0, 1, 2, 0, 1, 0, 1, 2, 2, 0, 1, 1, 0, 0, 1, 0, 1, 0,\n",
       "        0, 1, 1, 1, 0, 1, 1, 0, 0, 1, 2, 1, 0, 1, 1, 1, 2, 0, 2, 2, 0, 1,\n",
       "        2, 0, 1, 2, 1, 1, 0, 2, 1, 1, 0, 1, 2, 0, 2, 0, 1, 0, 1, 0, 0, 0,\n",
       "        0, 0, 1, 0, 1, 1, 2, 2, 1, 2, 1, 1, 1, 1, 1, 1, 1, 1, 1, 0, 1, 2,\n",
       "        2, 2, 2, 0, 1, 2, 1, 2, 1, 0, 2, 2, 1, 2, 0, 2, 1, 0],\n",
       "       [3, 1, 2, 3, 3, 3, 3, 1, 1, 1, 2, 1, 3, 1, 1, 3, 3, 2, 2, 2, 3, 3,\n",
       "        1, 1, 3, 2, 3, 2, 2, 1, 2, 1, 2, 1, 1, 2, 3, 2, 3, 2, 1, 1, 1, 3,\n",
       "        1, 1, 3, 2, 1, 2, 3, 1, 2, 1, 2, 3, 3, 1, 2, 2, 1, 1, 2, 1, 2, 1,\n",
       "        1, 2, 2, 2, 1, 3, 2, 1, 1, 2, 3, 2, 1, 2, 2, 2, 3, 1, 3, 3, 1, 2,\n",
       "        3, 1, 2, 3, 2, 3, 1, 3, 2, 2, 1, 3, 3, 1, 3, 1, 2, 1, 2, 1, 1, 1,\n",
       "        1, 1, 2, 1, 2, 3, 3, 3, 2, 3, 3, 3, 2, 3, 2, 2, 2, 2, 3, 1, 3, 3,\n",
       "        3, 3, 3, 1, 2, 3, 2, 3, 2, 1, 3, 3, 2, 3, 1, 3, 2, 1]])"
      ]
     },
     "execution_count": 509,
     "metadata": {},
     "output_type": "execute_result"
    }
   ],
   "source": [
    "preK = np.array([getClosestCluster(X[i][1: ], clus) for i in range(len(X))])\n",
    "www = np.append(preK, Y)\n",
    "www.shape = (2, 150)\n",
    "www"
   ]
  },
  {
   "cell_type": "code",
   "execution_count": 510,
   "metadata": {
    "collapsed": true
   },
   "outputs": [],
   "source": [
    "# as we see from result the members of first class mainly are separable from rest of data\n",
    "# the second and third are interconnected and in many cases it's hard to separate them\n",
    "# so our model gave the same result as we saw on plots"
   ]
  },
  {
   "cell_type": "markdown",
   "metadata": {},
   "source": []
  }
 ],
 "metadata": {
  "kernelspec": {
   "display_name": "Python 2",
   "language": "python",
   "name": "python2"
  },
  "language_info": {
   "codemirror_mode": {
    "name": "ipython",
    "version": 2
   },
   "file_extension": ".py",
   "mimetype": "text/x-python",
   "name": "python",
   "nbconvert_exporter": "python",
   "pygments_lexer": "ipython2",
   "version": "2.7.6"
  }
 },
 "nbformat": 4,
 "nbformat_minor": 1
}
